{
 "metadata": {
  "language_info": {
   "codemirror_mode": {
    "name": "ipython",
    "version": 3
   },
   "file_extension": ".py",
   "mimetype": "text/x-python",
   "name": "python",
   "nbconvert_exporter": "python",
   "pygments_lexer": "ipython3",
   "version": "3.7.9-final"
  },
  "orig_nbformat": 2,
  "kernelspec": {
   "name": "python3",
   "display_name": "Python 3.7.9 64-bit (conda)",
   "metadata": {
    "interpreter": {
     "hash": "14d6c2848630e49710635a48091d83ec66863a9274f829339ae06d8647561ca8"
    }
   }
  }
 },
 "nbformat": 4,
 "nbformat_minor": 2,
 "cells": [
  {
   "source": [
    "# Session 2: Genetic Optimization and Evolutionary Algorithms\n"
   ],
   "cell_type": "markdown",
   "metadata": {}
  },
  {
   "source": [
    "## Overview:\n",
    "\n",
    "### Algorithms\n",
    "* Genetic Algorithms\n",
    "* Evolution Strategies\n",
    "* Differential Evolution\n",
    "* Hybridization w/ local search\n",
    "* Speciation\n",
    "* Multi-Objective "
   ],
   "cell_type": "markdown",
   "metadata": {}
  },
  {
   "cell_type": "code",
   "execution_count": 5,
   "metadata": {},
   "outputs": [],
   "source": [
    "def run_trial(env, controller, n_steps=1000):\n",
    "    state = env.reset()\n",
    "\n",
    "    num_successes = 0\n",
    "    for _ in range(n_steps):\n",
    "        action = controller(state)\n",
    "        state, reward, done, _ = env.step(action)\n",
    "        env.render()\n",
    "\n",
    "        if done:\n",
    "            num_successes += 1\n",
    "            print(f\"Done, {num_successes} swing ups.\")\n",
    "            env.reset()\n",
    "\n",
    "def controller(state):\n",
    "    \"\"\"\n",
    "    Approximately optimal controller for pendulum swing up problem. \n",
    "\n",
    "    u_t = saturate_{torque max} (E_t - E_0) * sign(\\theta_dot * cos(\\theta))\n",
    "\n",
    "    We remove the saturation and energy difference to just get a controller that is \"bang-bang\" at {-1, 0, 1}.\n",
    "    \"\"\"\n",
    "\n",
    "    cos_theta = state[0]\n",
    "    theta_dot = state[2]\n",
    "\n",
    "    return [- np.sign(theta_dot * cos_theta)]\n"
   ]
  },
  {
   "cell_type": "code",
   "execution_count": 6,
   "metadata": {},
   "outputs": [
    {
     "output_type": "stream",
     "name": "stdout",
     "text": [
      "Done, 1 swing ups.\n",
      "Done, 2 swing ups.\n",
      "Done, 3 swing ups.\n",
      "Done, 4 swing ups.\n",
      "Done, 5 swing ups.\n"
     ]
    }
   ],
   "source": [
    "import numpy as np\n",
    "import gym\n",
    "\n",
    "env = gym.make(\"Pendulum-v0\")\n",
    "run_trial(env, controller)\n",
    "env.close()\n"
   ]
  },
  {
   "cell_type": "code",
   "execution_count": null,
   "metadata": {},
   "outputs": [],
   "source": []
  }
 ]
}